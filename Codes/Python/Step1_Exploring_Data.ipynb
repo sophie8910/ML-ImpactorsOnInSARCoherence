{
 "cells": [
  {
   "cell_type": "markdown",
   "id": "fee7527f",
   "metadata": {},
   "source": [
    "\n",
    "\n",
    "\n",
    "\n",
    "\n",
    "### Import all the necessary python packages for Data Pre-processing and EDA"
   ]
  },
  {
   "cell_type": "code",
   "execution_count": 3,
   "id": "952d267e",
   "metadata": {},
   "outputs": [],
   "source": [
    "import pandas as pd\n",
    "import numpy as np\n",
    "import os\n",
    "import xlsxwriter\n",
    "#!pip install xlsxwriter\n",
    "#!pip install autopep8\n",
    "\n",
    "# python packages related to model evaluation\n",
    "from sklearn.metrics import r2_score  # R_2\n",
    "from sklearn.metrics import mean_squared_error # RMSE\n",
    "from sklearn.metrics import mean_absolute_error as mae # MAE\n",
    "\n",
    "# python packages related to data visualization\n",
    "import matplotlib.pyplot as plt\n",
    "import seaborn as sns\n",
    "import matplotlib as mpl"
   ]
  },
  {
   "cell_type": "code",
   "execution_count": 8,
   "id": "fba828d7",
   "metadata": {},
   "outputs": [
    {
     "ename": "IndentationError",
     "evalue": "unexpected indent (1656426342.py, line 28)",
     "output_type": "error",
     "traceback": [
      "\u001b[0;36m  Cell \u001b[0;32mIn[8], line 28\u001b[0;36m\u001b[0m\n\u001b[0;31m    file = new_sort[i]\u001b[0m\n\u001b[0m    ^\u001b[0m\n\u001b[0;31mIndentationError\u001b[0m\u001b[0;31m:\u001b[0m unexpected indent\n"
     ]
    }
   ],
   "source": [
    "# set the working path of files\n",
    "path = '../../Data/'\n",
    "    \n",
    "# Get all the files in the folder of Data\n",
    "fileList = os.listdir(path)\n",
    "    \n",
    "#\n",
    "get_key = lambda i: i.split('.')[0]\n",
    "new_sort = sorted(fileList, key=get_key)\n",
    "print(fileList, '\\n', new_sort)\n",
    "n = 0\n",
    "    \n",
    "# Output working path\n",
    "\n",
    "#file path to store the new dataframe after data pre-processing and EDA\n",
    "outpathdfl = '../../Data/Processed/'\n",
    "    \n",
    "# change the working path to dataframe after exploratory data analysis. \n",
    "    \n",
    "#initialize a dataframe first \n",
    "df = pd.DataFrame()\n",
    "    \n",
    "#for i in fileList:\n",
    "#for i in range(len(fileList)):\n",
    "    #for i in [1]:\n",
    "    # get each file\n",
    "    #file = new_sort[n]\n",
    "    file = new_sort[i]\n",
    "        \n",
    "    # read the excel file and generate a dataframe\n",
    "        \n",
    "    features = pd.read_excel(path+file,engine='openpyxl')\n",
    "    print(features.head(5))\n",
    "         \n",
    "    # get the filename\n",
    "    filename = file.split('.', 1)[0]\n",
    "    print(\"\\n\")\n",
    "    print('Now Pre-processing ：'+filename + ' Dataset')\n",
    "        \n",
    "    # Generate the target data\n",
    "    labels = np.array(features['coherence'])\n",
    "    #labels[:] = np.nan_to_num(labels)\n",
    "        \n",
    "    # Generate the station name\n",
    "    stations_name = np.array((features['station']))\n",
    "        \n",
    "    # Remove the labels from the features, only remain the environmental variables for features\n",
    "    features = features.drop(['coherence', 'X', 'Y', 'station','year','month','day'], axis=1)\n",
    "        \n",
    "    # Saving feature names for later use, save the column names\n",
    "    feature_list = list(features.columns)\n",
    "        \n",
    "    # Convert to numpy array\n",
    "    #features[:]=np.nan_to_num(features)\n",
    "    features = np.array(features)\n",
    "\n",
    "\n",
    "        "
   ]
  },
  {
   "cell_type": "code",
   "execution_count": null,
   "id": "17be3678",
   "metadata": {},
   "outputs": [],
   "source": []
  },
  {
   "cell_type": "code",
   "execution_count": null,
   "id": "0e8d22c2",
   "metadata": {},
   "outputs": [],
   "source": []
  },
  {
   "cell_type": "code",
   "execution_count": null,
   "id": "a537a94b",
   "metadata": {},
   "outputs": [],
   "source": []
  },
  {
   "cell_type": "code",
   "execution_count": null,
   "id": "90ed9b94",
   "metadata": {},
   "outputs": [],
   "source": []
  },
  {
   "cell_type": "code",
   "execution_count": null,
   "id": "5c30f5cd",
   "metadata": {},
   "outputs": [],
   "source": []
  },
  {
   "cell_type": "code",
   "execution_count": null,
   "id": "cd6455be",
   "metadata": {},
   "outputs": [],
   "source": []
  },
  {
   "cell_type": "code",
   "execution_count": null,
   "id": "fa04a435",
   "metadata": {},
   "outputs": [],
   "source": []
  },
  {
   "cell_type": "code",
   "execution_count": null,
   "id": "4f0039d1",
   "metadata": {},
   "outputs": [],
   "source": []
  },
  {
   "cell_type": "code",
   "execution_count": null,
   "id": "a0b37ebb",
   "metadata": {},
   "outputs": [],
   "source": []
  },
  {
   "cell_type": "code",
   "execution_count": null,
   "id": "9aa8f4bb",
   "metadata": {},
   "outputs": [],
   "source": []
  }
 ],
 "metadata": {
  "kernelspec": {
   "display_name": "Python 3 (ipykernel)",
   "language": "python",
   "name": "python3"
  },
  "language_info": {
   "codemirror_mode": {
    "name": "ipython",
    "version": 3
   },
   "file_extension": ".py",
   "mimetype": "text/x-python",
   "name": "python",
   "nbconvert_exporter": "python",
   "pygments_lexer": "ipython3",
   "version": "3.8.10"
  }
 },
 "nbformat": 4,
 "nbformat_minor": 5
}
